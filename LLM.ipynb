{
  "nbformat": 4,
  "nbformat_minor": 0,
  "metadata": {
    "colab": {
      "provenance": [],
      "authorship_tag": "ABX9TyPpYj6/UM0qsInXtG9z7Lnc",
      "include_colab_link": true
    },
    "kernelspec": {
      "name": "python3",
      "display_name": "Python 3"
    },
    "language_info": {
      "name": "python"
    }
  },
  "cells": [
    {
      "cell_type": "markdown",
      "metadata": {
        "id": "view-in-github",
        "colab_type": "text"
      },
      "source": [
        "<a href=\"https://colab.research.google.com/github/VikrantSingh010/LLMs/blob/main/LLM.ipynb\" target=\"_parent\"><img src=\"https://colab.research.google.com/assets/colab-badge.svg\" alt=\"Open In Colab\"/></a>"
      ]
    },
    {
      "cell_type": "code",
      "source": [
        "import os"
      ],
      "metadata": {
        "id": "XEtZ0BYopKmd"
      },
      "execution_count": 26,
      "outputs": []
    },
    {
      "cell_type": "code",
      "execution_count": 27,
      "metadata": {
        "colab": {
          "base_uri": "https://localhost:8080/"
        },
        "id": "Mqi3KffqoNh1",
        "outputId": "f58c7955-a15c-40f3-c458-49882f049b81"
      },
      "outputs": [
        {
          "output_type": "stream",
          "name": "stdout",
          "text": [
            "Total number of character: 20479\n"
          ]
        }
      ],
      "source": [
        "with open(\"/content/the-verdict.txt\",\"r\",encoding=\"utf-8\") as f:\n",
        "  raw_text=f.read()\n",
        "\n",
        "\n",
        "print(\"Total number of character:\",len(raw_text))"
      ]
    },
    {
      "cell_type": "code",
      "source": [
        "print(raw_text[:1000])"
      ],
      "metadata": {
        "colab": {
          "base_uri": "https://localhost:8080/"
        },
        "id": "53NHm2drs4Wz",
        "outputId": "3fc5d18a-5ffa-45b2-8c12-171526805ab5"
      },
      "execution_count": 28,
      "outputs": [
        {
          "output_type": "stream",
          "name": "stdout",
          "text": [
            "I HAD always thought Jack Gisburn rather a cheap genius--though a good fellow enough--so it was no great surprise to me to hear that, in the height of his glory, he had dropped his painting, married a rich widow, and established himself in a villa on the Riviera. (Though I rather thought it would have been Rome or Florence.)\n",
            "\n",
            "\"The height of his glory\"--that was what the women called it. I can hear Mrs. Gideon Thwing--his last Chicago sitter--deploring his unaccountable abdication. \"Of course it's going to send the value of my picture 'way up; but I don't think of that, Mr. Rickham--the loss to Arrt is all I think of.\" The word, on Mrs. Thwing's lips, multiplied its _rs_ as though they were reflected in an endless vista of mirrors. And it was not only the Mrs. Thwings who mourned. Had not the exquisite Hermia Croft, at the last Grafton Gallery show, stopped me before Gisburn's \"Moon-dancers\" to say, with tears in her eyes: \"We shall not look upon its like again\"?\n",
            "\n",
            "Well!--even through th\n"
          ]
        }
      ]
    },
    {
      "cell_type": "code",
      "source": [
        "import re\n",
        "text=\"Hello, My name is Vikrant.\"\n",
        "result=re.split(r'(\\s)',text)\n",
        "\n",
        "print(result)"
      ],
      "metadata": {
        "colab": {
          "base_uri": "https://localhost:8080/"
        },
        "id": "UYJWbwPitAMn",
        "outputId": "afbb0fc5-d1d7-46b4-b04c-add8c93f2962"
      },
      "execution_count": 29,
      "outputs": [
        {
          "output_type": "stream",
          "name": "stdout",
          "text": [
            "['Hello,', ' ', 'My', ' ', 'name', ' ', 'is', ' ', 'Vikrant.']\n"
          ]
        }
      ]
    },
    {
      "cell_type": "code",
      "source": [
        "# result=re.split(r'([,.]|\\s)',text)\n",
        "# print(result)"
      ],
      "metadata": {
        "id": "sFMhQg8OweCF"
      },
      "execution_count": 30,
      "outputs": []
    },
    {
      "cell_type": "code",
      "source": [
        "# result=[item for item in result if item.strip()]\n",
        "# print(result)"
      ],
      "metadata": {
        "id": "VstYzE4qctLt"
      },
      "execution_count": 31,
      "outputs": []
    },
    {
      "cell_type": "code",
      "source": [
        "preprocessed_text=re.split(r'([,.:;?_!\"()]|--|\\s)',raw_text)\n",
        "print(preprocessed_text[:1000])"
      ],
      "metadata": {
        "colab": {
          "base_uri": "https://localhost:8080/"
        },
        "id": "mjrX7EVAq4dq",
        "outputId": "a56a0552-6d27-4644-f9fa-a39c0cbcc381"
      },
      "execution_count": 32,
      "outputs": [
        {
          "output_type": "stream",
          "name": "stdout",
          "text": [
            "['I', ' ', 'HAD', ' ', 'always', ' ', 'thought', ' ', 'Jack', ' ', 'Gisburn', ' ', 'rather', ' ', 'a', ' ', 'cheap', ' ', 'genius', '--', 'though', ' ', 'a', ' ', 'good', ' ', 'fellow', ' ', 'enough', '--', 'so', ' ', 'it', ' ', 'was', ' ', 'no', ' ', 'great', ' ', 'surprise', ' ', 'to', ' ', 'me', ' ', 'to', ' ', 'hear', ' ', 'that', ',', '', ' ', 'in', ' ', 'the', ' ', 'height', ' ', 'of', ' ', 'his', ' ', 'glory', ',', '', ' ', 'he', ' ', 'had', ' ', 'dropped', ' ', 'his', ' ', 'painting', ',', '', ' ', 'married', ' ', 'a', ' ', 'rich', ' ', 'widow', ',', '', ' ', 'and', ' ', 'established', ' ', 'himself', ' ', 'in', ' ', 'a', ' ', 'villa', ' ', 'on', ' ', 'the', ' ', 'Riviera', '.', '', ' ', '', '(', 'Though', ' ', 'I', ' ', 'rather', ' ', 'thought', ' ', 'it', ' ', 'would', ' ', 'have', ' ', 'been', ' ', 'Rome', ' ', 'or', ' ', 'Florence', '.', '', ')', '', '\\n', '', '\\n', '', '\"', 'The', ' ', 'height', ' ', 'of', ' ', 'his', ' ', 'glory', '\"', '', '--', 'that', ' ', 'was', ' ', 'what', ' ', 'the', ' ', 'women', ' ', 'called', ' ', 'it', '.', '', ' ', 'I', ' ', 'can', ' ', 'hear', ' ', 'Mrs', '.', '', ' ', 'Gideon', ' ', 'Thwing', '--', 'his', ' ', 'last', ' ', 'Chicago', ' ', 'sitter', '--', 'deploring', ' ', 'his', ' ', 'unaccountable', ' ', 'abdication', '.', '', ' ', '', '\"', 'Of', ' ', 'course', ' ', \"it's\", ' ', 'going', ' ', 'to', ' ', 'send', ' ', 'the', ' ', 'value', ' ', 'of', ' ', 'my', ' ', 'picture', ' ', \"'way\", ' ', 'up', ';', '', ' ', 'but', ' ', 'I', ' ', \"don't\", ' ', 'think', ' ', 'of', ' ', 'that', ',', '', ' ', 'Mr', '.', '', ' ', 'Rickham', '--', 'the', ' ', 'loss', ' ', 'to', ' ', 'Arrt', ' ', 'is', ' ', 'all', ' ', 'I', ' ', 'think', ' ', 'of', '.', '', '\"', '', ' ', 'The', ' ', 'word', ',', '', ' ', 'on', ' ', 'Mrs', '.', '', ' ', \"Thwing's\", ' ', 'lips', ',', '', ' ', 'multiplied', ' ', 'its', ' ', '', '_', 'rs', '_', '', ' ', 'as', ' ', 'though', ' ', 'they', ' ', 'were', ' ', 'reflected', ' ', 'in', ' ', 'an', ' ', 'endless', ' ', 'vista', ' ', 'of', ' ', 'mirrors', '.', '', ' ', 'And', ' ', 'it', ' ', 'was', ' ', 'not', ' ', 'only', ' ', 'the', ' ', 'Mrs', '.', '', ' ', 'Thwings', ' ', 'who', ' ', 'mourned', '.', '', ' ', 'Had', ' ', 'not', ' ', 'the', ' ', 'exquisite', ' ', 'Hermia', ' ', 'Croft', ',', '', ' ', 'at', ' ', 'the', ' ', 'last', ' ', 'Grafton', ' ', 'Gallery', ' ', 'show', ',', '', ' ', 'stopped', ' ', 'me', ' ', 'before', ' ', \"Gisburn's\", ' ', '', '\"', 'Moon-dancers', '\"', '', ' ', 'to', ' ', 'say', ',', '', ' ', 'with', ' ', 'tears', ' ', 'in', ' ', 'her', ' ', 'eyes', ':', '', ' ', '', '\"', 'We', ' ', 'shall', ' ', 'not', ' ', 'look', ' ', 'upon', ' ', 'its', ' ', 'like', ' ', 'again', '\"', '', '?', '', '\\n', '', '\\n', 'Well', '!', '', '--', 'even', ' ', 'through', ' ', 'the', ' ', 'prism', ' ', 'of', ' ', \"Hermia's\", ' ', 'tears', ' ', 'I', ' ', 'felt', ' ', 'able', ' ', 'to', ' ', 'face', ' ', 'the', ' ', 'fact', ' ', 'with', ' ', 'equanimity', '.', '', ' ', 'Poor', ' ', 'Jack', ' ', 'Gisburn', '!', '', ' ', 'The', ' ', 'women', ' ', 'had', ' ', 'made', ' ', 'him', '--', 'it', ' ', 'was', ' ', 'fitting', ' ', 'that', ' ', 'they', ' ', 'should', ' ', 'mourn', ' ', 'him', '.', '', ' ', 'Among', ' ', 'his', ' ', 'own', ' ', 'sex', ' ', 'fewer', ' ', 'regrets', ' ', 'were', ' ', 'heard', ',', '', ' ', 'and', ' ', 'in', ' ', 'his', ' ', 'own', ' ', 'trade', ' ', 'hardly', ' ', 'a', ' ', 'murmur', '.', '', ' ', 'Professional', ' ', 'jealousy', '?', '', ' ', 'Perhaps', '.', '', ' ', 'If', ' ', 'it', ' ', 'were', ',', '', ' ', 'the', ' ', 'honour', ' ', 'of', ' ', 'the', ' ', 'craft', ' ', 'was', ' ', 'vindicated', ' ', 'by', ' ', 'little', ' ', 'Claude', ' ', 'Nutley', ',', '', ' ', 'who', ',', '', ' ', 'in', ' ', 'all', ' ', 'good', ' ', 'faith', ',', '', ' ', 'brought', ' ', 'out', ' ', 'in', ' ', 'the', ' ', 'Burlington', ' ', 'a', ' ', 'very', ' ', 'handsome', ' ', '', '\"', 'obituary', '\"', '', ' ', 'on', ' ', 'Jack', '--', 'one', ' ', 'of', ' ', 'those', ' ', 'showy', ' ', 'articles', ' ', 'stocked', ' ', 'with', ' ', 'random', ' ', 'technicalities', ' ', 'that', ' ', 'I', ' ', 'have', ' ', 'heard', ' ', '', '(', 'I', ' ', \"won't\", ' ', 'say', ' ', 'by', ' ', 'whom', ')', '', ' ', 'compared', ' ', 'to', ' ', \"Gisburn's\", ' ', 'painting', '.', '', ' ', 'And', ' ', 'so', '--', 'his', ' ', 'resolve', ' ', 'being', ' ', 'apparently', ' ', 'irrevocable', '--', 'the', ' ', 'discussion', ' ', 'gradually', ' ', 'died', ' ', 'out', ',', '', ' ', 'and', ',', '', ' ', 'as', ' ', 'Mrs', '.', '', ' ', 'Thwing', ' ', 'had', ' ', 'predicted', ',', '', ' ', 'the', ' ', 'price', ' ', 'of', ' ', '', '\"', 'Gisburns', '\"', '', ' ', 'went', ' ', 'up', '.', '', '\\n', '', '\\n', 'It', ' ', 'was', ' ', 'not', ' ', 'till', ' ', 'three', ' ', 'years', ' ', 'later', ' ', 'that', ',', '', ' ', 'in', ' ', 'the', ' ', 'course', ' ', 'of', ' ', 'a', ' ', 'few', ' ', \"weeks'\", ' ', 'idling', ' ', 'on', ' ', 'the', ' ', 'Riviera', ',', '', ' ', 'it', ' ', 'suddenly', ' ', 'occurred', ' ', 'to', ' ', 'me', ' ', 'to', ' ', 'wonder', ' ', 'why', ' ', 'Gisburn', ' ', 'had', ' ', 'given', ' ', 'up', ' ', 'his', ' ', 'painting', '.', '', ' ', 'On', ' ', 'reflection', ',', '', ' ', 'it', ' ', 'really', ' ', 'was', ' ', 'a', ' ', 'tempting', ' ', 'problem', '.', '', ' ', 'To', ' ', 'accuse', ' ', 'his', ' ', 'wife', ' ', 'would', ' ', 'have', ' ', 'been', ' ', 'too', ' ', 'easy', '--', 'his', ' ', 'fair', ' ', 'sitters', ' ', 'had', ' ', 'been', ' ', 'denied', ' ', 'the', ' ', 'solace', ' ', 'of', ' ', 'saying', ' ', 'that', ' ', 'Mrs', '.', '', ' ', 'Gisburn', ' ', 'had', ' ', '', '\"', 'dragged', ' ', 'him', ' ', 'down', '.', '', '\"', '', ' ', 'For', ' ', 'Mrs', '.', '', ' ', 'Gisburn', '--', 'as', ' ', 'such', '--', 'had', ' ', 'not', ' ', 'existed', ' ', 'till', ' ', 'nearly', ' ', 'a', ' ', 'year', ' ', 'after', ' ', \"Jack's\", ' ', 'resolve', ' ', 'had', ' ', 'been', ' ', 'taken', '.', '', ' ', 'It', ' ', 'might', ' ', 'be', ' ', 'that', ' ', 'he', ' ', 'had', ' ', 'married', ' ', 'her', '--', 'since', ' ', 'he', ' ', 'liked', ' ', 'his', ' ', 'ease', '--', 'because', ' ', 'he', ' ', \"didn't\", ' ', 'want', ' ', 'to', ' ', 'go', ' ', 'on', ' ', 'painting', ';', '', ' ', 'but', ' ', 'it', ' ', 'would', ' ', 'have', ' ', 'been', ' ', 'hard', ' ', 'to', ' ', 'prove', ' ', 'that', ' ', 'he', ' ', 'had', ' ', 'given', ' ']\n"
          ]
        }
      ]
    },
    {
      "cell_type": "code",
      "source": [
        "preprocessed_text=[item.strip() for item in preprocessed_text if item.strip()]"
      ],
      "metadata": {
        "id": "fyuyPByurY62"
      },
      "execution_count": 33,
      "outputs": []
    },
    {
      "cell_type": "code",
      "source": [
        "print(preprocessed_text[:1000])"
      ],
      "metadata": {
        "colab": {
          "base_uri": "https://localhost:8080/"
        },
        "id": "AH--Y9UdrkYt",
        "outputId": "4d44b343-89f0-45c2-d8d7-8396274ca560"
      },
      "execution_count": 34,
      "outputs": [
        {
          "output_type": "stream",
          "name": "stdout",
          "text": [
            "['I', 'HAD', 'always', 'thought', 'Jack', 'Gisburn', 'rather', 'a', 'cheap', 'genius', '--', 'though', 'a', 'good', 'fellow', 'enough', '--', 'so', 'it', 'was', 'no', 'great', 'surprise', 'to', 'me', 'to', 'hear', 'that', ',', 'in', 'the', 'height', 'of', 'his', 'glory', ',', 'he', 'had', 'dropped', 'his', 'painting', ',', 'married', 'a', 'rich', 'widow', ',', 'and', 'established', 'himself', 'in', 'a', 'villa', 'on', 'the', 'Riviera', '.', '(', 'Though', 'I', 'rather', 'thought', 'it', 'would', 'have', 'been', 'Rome', 'or', 'Florence', '.', ')', '\"', 'The', 'height', 'of', 'his', 'glory', '\"', '--', 'that', 'was', 'what', 'the', 'women', 'called', 'it', '.', 'I', 'can', 'hear', 'Mrs', '.', 'Gideon', 'Thwing', '--', 'his', 'last', 'Chicago', 'sitter', '--', 'deploring', 'his', 'unaccountable', 'abdication', '.', '\"', 'Of', 'course', \"it's\", 'going', 'to', 'send', 'the', 'value', 'of', 'my', 'picture', \"'way\", 'up', ';', 'but', 'I', \"don't\", 'think', 'of', 'that', ',', 'Mr', '.', 'Rickham', '--', 'the', 'loss', 'to', 'Arrt', 'is', 'all', 'I', 'think', 'of', '.', '\"', 'The', 'word', ',', 'on', 'Mrs', '.', \"Thwing's\", 'lips', ',', 'multiplied', 'its', '_', 'rs', '_', 'as', 'though', 'they', 'were', 'reflected', 'in', 'an', 'endless', 'vista', 'of', 'mirrors', '.', 'And', 'it', 'was', 'not', 'only', 'the', 'Mrs', '.', 'Thwings', 'who', 'mourned', '.', 'Had', 'not', 'the', 'exquisite', 'Hermia', 'Croft', ',', 'at', 'the', 'last', 'Grafton', 'Gallery', 'show', ',', 'stopped', 'me', 'before', \"Gisburn's\", '\"', 'Moon-dancers', '\"', 'to', 'say', ',', 'with', 'tears', 'in', 'her', 'eyes', ':', '\"', 'We', 'shall', 'not', 'look', 'upon', 'its', 'like', 'again', '\"', '?', 'Well', '!', '--', 'even', 'through', 'the', 'prism', 'of', \"Hermia's\", 'tears', 'I', 'felt', 'able', 'to', 'face', 'the', 'fact', 'with', 'equanimity', '.', 'Poor', 'Jack', 'Gisburn', '!', 'The', 'women', 'had', 'made', 'him', '--', 'it', 'was', 'fitting', 'that', 'they', 'should', 'mourn', 'him', '.', 'Among', 'his', 'own', 'sex', 'fewer', 'regrets', 'were', 'heard', ',', 'and', 'in', 'his', 'own', 'trade', 'hardly', 'a', 'murmur', '.', 'Professional', 'jealousy', '?', 'Perhaps', '.', 'If', 'it', 'were', ',', 'the', 'honour', 'of', 'the', 'craft', 'was', 'vindicated', 'by', 'little', 'Claude', 'Nutley', ',', 'who', ',', 'in', 'all', 'good', 'faith', ',', 'brought', 'out', 'in', 'the', 'Burlington', 'a', 'very', 'handsome', '\"', 'obituary', '\"', 'on', 'Jack', '--', 'one', 'of', 'those', 'showy', 'articles', 'stocked', 'with', 'random', 'technicalities', 'that', 'I', 'have', 'heard', '(', 'I', \"won't\", 'say', 'by', 'whom', ')', 'compared', 'to', \"Gisburn's\", 'painting', '.', 'And', 'so', '--', 'his', 'resolve', 'being', 'apparently', 'irrevocable', '--', 'the', 'discussion', 'gradually', 'died', 'out', ',', 'and', ',', 'as', 'Mrs', '.', 'Thwing', 'had', 'predicted', ',', 'the', 'price', 'of', '\"', 'Gisburns', '\"', 'went', 'up', '.', 'It', 'was', 'not', 'till', 'three', 'years', 'later', 'that', ',', 'in', 'the', 'course', 'of', 'a', 'few', \"weeks'\", 'idling', 'on', 'the', 'Riviera', ',', 'it', 'suddenly', 'occurred', 'to', 'me', 'to', 'wonder', 'why', 'Gisburn', 'had', 'given', 'up', 'his', 'painting', '.', 'On', 'reflection', ',', 'it', 'really', 'was', 'a', 'tempting', 'problem', '.', 'To', 'accuse', 'his', 'wife', 'would', 'have', 'been', 'too', 'easy', '--', 'his', 'fair', 'sitters', 'had', 'been', 'denied', 'the', 'solace', 'of', 'saying', 'that', 'Mrs', '.', 'Gisburn', 'had', '\"', 'dragged', 'him', 'down', '.', '\"', 'For', 'Mrs', '.', 'Gisburn', '--', 'as', 'such', '--', 'had', 'not', 'existed', 'till', 'nearly', 'a', 'year', 'after', \"Jack's\", 'resolve', 'had', 'been', 'taken', '.', 'It', 'might', 'be', 'that', 'he', 'had', 'married', 'her', '--', 'since', 'he', 'liked', 'his', 'ease', '--', 'because', 'he', \"didn't\", 'want', 'to', 'go', 'on', 'painting', ';', 'but', 'it', 'would', 'have', 'been', 'hard', 'to', 'prove', 'that', 'he', 'had', 'given', 'up', 'his', 'painting', 'because', 'he', 'had', 'married', 'her', '.', 'Of', 'course', ',', 'if', 'she', 'had', 'not', 'dragged', 'him', 'down', ',', 'she', 'had', 'equally', ',', 'as', 'Miss', 'Croft', 'contended', ',', 'failed', 'to', '\"', 'lift', 'him', 'up', '\"', '--', 'she', 'had', 'not', 'led', 'him', 'back', 'to', 'the', 'easel', '.', 'To', 'put', 'the', 'brush', 'into', 'his', 'hand', 'again', '--', 'what', 'a', 'vocation', 'for', 'a', 'wife', '!', 'But', 'Mrs', '.', 'Gisburn', 'appeared', 'to', 'have', 'disdained', 'it', '--', 'and', 'I', 'felt', 'it', 'might', 'be', 'interesting', 'to', 'find', 'out', 'why', '.', 'The', 'desultory', 'life', 'of', 'the', 'Riviera', 'lends', 'itself', 'to', 'such', 'purely', 'academic', 'speculations', ';', 'and', 'having', ',', 'on', 'my', 'way', 'to', 'Monte', 'Carlo', ',', 'caught', 'a', 'glimpse', 'of', \"Jack's\", 'balustraded', 'terraces', 'between', 'the', 'pines', ',', 'I', 'had', 'myself', 'borne', 'thither', 'the', 'next', 'day', '.', 'I', 'found', 'the', 'couple', 'at', 'tea', 'beneath', 'their', 'palm-trees', ';', 'and', 'Mrs', '.', \"Gisburn's\", 'welcome', 'was', 'so', 'genial', 'that', ',', 'in', 'the', 'ensuing', 'weeks', ',', 'I', 'claimed', 'it', 'frequently', '.', 'It', 'was', 'not', 'that', 'my', 'hostess', 'was', '\"', 'interesting', '\"', ':', 'on', 'that', 'point', 'I', 'could', 'have', 'given', 'Miss', 'Croft', 'the', 'fullest', 'reassurance', '.', 'It', 'was', 'just', 'because', 'she', 'was', '_', 'not', '_', 'interesting', '--', 'if', 'I', 'may', 'be', 'pardoned', 'the', 'bull', '--', 'that', 'I', 'found', 'her', 'so', '.', 'For', 'Jack', ',', 'all', 'his', 'life', ',', 'had', 'been', 'surrounded', 'by', 'interesting', 'women', ':', 'they', 'had', 'fostered', 'his', 'art', ',', 'it', 'had', 'been', 'reared', 'in', 'the', 'hot-house', 'of', 'their', 'adulation', '.', 'And', 'it', 'was', 'therefore', 'instructive', 'to', 'note', 'what', 'effect', 'the', '\"', 'deadening', 'atmosphere', 'of', 'mediocrity', '\"', '(', 'I', 'quote', 'Miss', 'Croft', ')', 'was', 'having', 'on', 'him', '.', 'I', 'have', 'mentioned', 'that', 'Mrs', '.', 'Gisburn', 'was', 'rich', ';', 'and', 'it', 'was', 'immediately', 'perceptible', 'that', 'her', 'husband', 'was', 'extracting', 'from', 'this', 'circumstance', 'a', 'delicate', 'but', 'substantial', 'satisfaction', '.', 'It', 'is', ',', 'as', 'a', 'rule', ',', 'the', 'people', 'who', 'scorn', 'money', 'who', 'get', 'most', 'out', 'of', 'it', ';', 'and', \"Jack's\", 'elegant', 'disdain', 'of', 'his', \"wife's\", 'big', 'balance', 'enabled', 'him', ',', 'with', 'an', 'appearance', 'of', 'perfect', 'good-breeding', ',', 'to', 'transmute', 'it', 'into', 'objects', 'of', 'art', 'and', 'luxury', '.', 'To', 'the', 'latter', ',', 'I', 'must', 'add', ',', 'he', 'remained', 'relatively', 'indifferent', ';', 'but', 'he', 'was', 'buying', 'Renaissance', 'bronzes', 'and', 'eighteenth-century', 'pictures', 'with', 'a', 'discrimination', 'that', 'bespoke', 'the', 'amplest', 'resources', '.', '\"', \"Money's\", 'only', 'excuse', 'is', 'to', 'put', 'beauty', 'into', 'circulation', ',', '\"', 'was', 'one', 'of', 'the', 'axioms', 'he', 'laid', 'down', 'across', 'the', 'Sevres', 'and', 'silver', 'of', 'an', 'exquisitely', 'appointed', 'luncheon-table', ',', 'when', ',', 'on', 'a', 'later', 'day', ',', 'I', 'had', 'again', 'run', 'over', 'from', 'Monte', 'Carlo', ';', 'and', 'Mrs', '.', 'Gisburn', ',', 'beaming', 'on', 'him', ',', 'added', 'for', 'my', 'enlightenment', ':', '\"', 'Jack', 'is', 'so', 'morbidly', 'sensitive', 'to', 'every', 'form', 'of', 'beauty', '.', '\"', 'Poor', 'Jack', '!', 'It', 'had', 'always', 'been', 'his', 'fate', 'to', 'have', 'women', 'say', 'such', 'things', 'of', 'him', ':', 'the', 'fact', 'should', 'be', 'set', 'down', 'in', 'extenuation', '.', 'What', 'struck', 'me', 'now', 'was', 'that', ',', 'for', 'the', 'first', 'time', ',']\n"
          ]
        }
      ]
    },
    {
      "cell_type": "code",
      "source": [
        "print(len(preprocessed_text))"
      ],
      "metadata": {
        "colab": {
          "base_uri": "https://localhost:8080/"
        },
        "id": "hAHItH4SrtuF",
        "outputId": "2388cfe0-528e-48b1-d270-cb3610cf9522"
      },
      "execution_count": 35,
      "outputs": [
        {
          "output_type": "stream",
          "name": "stdout",
          "text": [
            "4519\n"
          ]
        }
      ]
    },
    {
      "cell_type": "code",
      "source": [
        "all_words=sorted(set(preprocessed_text))\n",
        "vocab_size=len(all_words)\n",
        "print(all_words[:1000])\n",
        "\n",
        "print(vocab_size)"
      ],
      "metadata": {
        "colab": {
          "base_uri": "https://localhost:8080/"
        },
        "id": "AwKjXwT7tFhm",
        "outputId": "a9833f7e-737d-4286-becf-40e08f4a04b7"
      },
      "execution_count": 36,
      "outputs": [
        {
          "output_type": "stream",
          "name": "stdout",
          "text": [
            "['!', '\"', \"'\", \"'Are\", \"'It's\", \"'coming'\", \"'done'\", \"'subject\", \"'technique'\", \"'way\", '(', ')', ',', '--', '.', ':', ';', '?', 'A', 'Ah', 'Among', 'And', 'Arrt', 'As', 'At', 'Be', 'Begin', 'Burlington', 'But', 'By', 'Carlo', 'Chicago', 'Claude', 'Come', 'Croft', 'Destroyed', 'Devonshire', \"Don't\", 'Dubarry', 'Emperors', 'Florence', 'For', 'Gallery', 'Gideon', 'Gisburn', \"Gisburn's\", 'Gisburns', 'Grafton', 'Greek', 'Grindle', \"Grindle's\", 'Grindles', 'HAD', 'Had', 'Hang', 'Has', 'He', 'Her', 'Hermia', \"Hermia's\", 'His', 'How', 'I', \"I'd\", \"I'll\", \"I've\", 'If', 'In', 'It', \"It's\", 'Jack', \"Jack's\", 'Jove', 'Just', 'Lord', 'Made', 'Miss', \"Money's\", 'Monte', 'Moon-dancers', 'Mr', 'Mrs', 'My', 'Never', 'No', 'Now', 'Nutley', 'Of', 'Oh', 'On', 'Once', 'Only', 'Or', 'Perhaps', 'Poor', 'Professional', 'Renaissance', 'Rickham', 'Riviera', 'Rome', 'Russian', 'Sevres', 'She', \"She's\", 'Stroud', \"Stroud's\", 'Strouds', 'Suddenly', 'That', \"That's\", 'The', 'Then', 'There', 'They', 'This', 'Those', 'Though', 'Thwing', \"Thwing's\", 'Thwings', 'To', 'Usually', 'Venetian', 'Victor', 'Was', 'We', 'Well', 'What', 'When', 'Why', 'Yes', 'You', '_', 'a', 'abdication', 'able', 'about', 'above', 'abruptly', 'absolute', 'absorbed', 'absurdity', 'academic', 'accuse', 'accustomed', 'across', 'activity', 'add', 'added', 'admirers', 'adopted', 'adulation', 'advance', 'aesthetic', 'affect', 'afraid', 'after', 'afterward', 'again', 'ago', 'ah', 'air', 'alive', 'all', 'almost', 'alone', 'along', 'always', 'am', 'amazement', 'amid', 'among', 'amplest', 'amusing', 'an', 'and', 'another', 'answer', 'answered', 'any', 'anything', 'anywhere', 'apparent', 'apparently', 'appearance', 'appeared', 'appointed', 'are', 'arm', 'arm-chair', 'arm-chairs', 'arms', 'art', 'articles', 'artist', 'as', 'aside', 'asked', 'at', 'atmosphere', 'atom', 'attack', 'attention', 'attitude', 'audacities', 'away', 'awful', 'axioms', 'azaleas', 'back', 'background', 'balance', 'balancing', 'balustraded', 'basking', 'bath-rooms', 'be', 'beaming', 'bean-stalk', 'bear', 'beard', 'beauty', 'became', 'because', 'becoming', 'bed', 'been', 'before', 'began', 'begun', 'behind', 'being', 'believed', 'beneath', 'bespoke', 'better', 'between', 'big', 'bits', 'bitterness', 'blocked', 'born', 'borne', 'boudoir', 'bravura', 'break', 'breaking', 'breathing', 'bric-a-brac', 'briefly', 'brings', 'bronzes', 'brought', 'brown', 'brush', 'bull', 'business', 'but', 'buying', 'by', 'called', 'came', 'can', 'canvas', 'canvases', 'cards', 'care', 'career', 'caught', 'central', 'chair', 'chap', 'characteristic', 'charming', 'cheap', 'check', 'cheeks', 'chest', 'chimney-piece', 'chucked', 'cigar', 'cigarette', 'cigars', 'circulation', 'circumstance', \"circus-clown's\", 'claimed', 'clasping', 'clear', 'cleverer', 'close', 'clue', 'coat', 'collapsed', 'colour', 'come', 'comfortable', 'coming', 'companion', 'compared', 'complex', 'confident', 'congesting', 'conjugal', 'constraint', 'consummate', 'contended', 'continued', 'corner', 'corrected', 'could', \"couldn't\", 'count', 'countenance', 'couple', 'course', 'covered', 'craft', 'cried', 'crossed', 'crowned', 'crumbled', 'cry', 'cured', 'curiosity', 'curious', 'current', 'curtains', 'dabble', 'damask', 'dark', 'dashed', 'day', 'days', 'dead', 'deadening', 'dear', 'deep', \"deerhound's\", 'degree', 'delicate', 'demand', 'denied', 'deploring', 'deprecating', 'deprecatingly', 'desire', 'destroyed', 'destruction', 'desultory', 'detail', 'diagnosis', 'did', \"didn't\", 'died', 'dim', 'dimmest', 'dingy', 'dining-room', 'disarming', 'discovery', 'discrimination', 'discussion', 'disdain', 'disdained', 'disease', 'disguised', 'display', 'dissatisfied', 'distinguished', 'distract', 'divert', 'do', \"doesn't\", 'doing', 'domestic', \"don't\", 'done', 'donkey', 'down', 'dozen', 'dragged', 'drawing-room', 'drawing-rooms', 'drawn', 'dress-closets', 'drew', 'dropped', 'each', 'earth', 'ease', 'easel', 'easy', 'echoed', 'economy', 'effect', 'effects', 'efforts', 'egregious', 'eighteenth-century', 'elbow', 'elegant', 'else', 'embarrassed', 'enabled', 'end', 'endless', 'enjoy', 'enlightenment', 'enough', 'ensuing', 'equally', 'equanimity', 'escape', 'established', 'etching', 'even', 'event', 'ever', 'everlasting', 'every', 'exasperated', 'except', 'excuse', 'excusing', 'existed', 'expected', 'exquisite', 'exquisitely', 'extenuation', 'exterminating', 'extracting', 'eye', 'eyebrows', 'eyes', 'face', 'faces', 'fact', 'faded', 'failed', 'failure', 'fair', 'faith', 'false', 'familiar', 'famille-verte', 'fancy', 'fashionable', 'fate', 'feather', 'feet', 'fell', 'fellow', 'felt', 'few', 'fewer', 'finality', 'find', 'fingers', 'first', 'fit', 'fitting', 'five', 'flash', 'flashed', 'florid', 'flowers', 'fluently', 'flung', 'follow', 'followed', 'fond', 'footstep', 'for', 'forced', 'forcing', 'forehead', 'foreign', 'foreseen', 'forgive', 'forgotten', 'form', 'formed', 'forming', 'forward', 'fostered', 'found', 'foundations', 'fragment', 'fragments', 'frame', 'frames', 'frequently', \"friend's\", 'from', 'full', 'fullest', 'furiously', 'furrowed', 'garlanded', 'garlands', 'gave', 'genial', 'genius', 'gesture', 'get', 'getting', 'give', 'given', 'glad', 'glanced', 'glimpse', 'gloried', 'glory', 'go', 'going', 'gone', 'good', 'good-breeding', 'good-humoured', 'got', 'grace', 'gradually', 'gray', 'grayish', 'great', 'greatest', 'greatness', 'grew', 'groping', 'growing', 'had', \"hadn't\", 'hair', 'half', 'half-light', 'half-mechanically', 'hall', 'hand', 'hands', 'handsome', 'hanging', 'happen', 'happened', 'hard', 'hardly', 'has', 'have', \"haven't\", 'having', 'he', \"he'd\", \"he's\", 'head', 'hear', 'heard', 'heart', 'height', 'her', 'here', 'hermit', 'herself', 'hesitations', 'hide', 'high', 'him', 'himself', 'hint', 'his', 'history', 'holding', 'home', 'honour', 'hooded', 'hostess', 'hot-house', 'hour', 'hours', 'house', 'how', \"how'\", 'hung', 'husband', \"husband's\", 'idea', 'idle', 'idling', 'if', 'immediately', 'in', 'incense', 'indifferent', 'inevitable', 'inevitably', 'inflexible', 'insensible', 'insignificant', 'instinctively', 'instructive', 'interesting', 'into', 'ironic', 'irony', 'irrelevance', 'irrevocable', 'is', 'it', \"it's\", 'its', 'itself', 'jardiniere', 'jealousy', 'just', 'keep', 'kept', 'kind', 'knees', 'knew', 'know', 'known', 'laid', 'lair', 'landing', 'language', 'last', 'late', 'later', 'latter', \"latter's\", 'laugh', 'laughed', 'lay', 'leading', 'lean', 'learned', 'least', 'leathery', 'leave', 'led', 'left', 'leisure', 'lends', 'lent', 'let', 'lies', 'life', 'life-likeness', 'lift', 'lifted', 'light', 'lightly', 'like', 'liked', 'line', 'lines', 'lingered', 'lips', 'lit', 'little', 'live', 'loathing', 'long', 'longed', 'longer', 'look', 'looked', 'looking', 'lose', 'loss', 'lounging', 'lovely', 'lucky', 'lump', 'luncheon-table', 'luxury', 'lying', 'made', 'make', 'man', 'manage', 'managed', 'mantel-piece', 'marble', 'married', 'may', 'me', 'meant', 'mediocrity', 'medium', 'mentioned', 'mere', 'merely', 'met', 'might', 'mighty', \"millionaire's\", 'mine', 'minute', 'minutes', 'mirrors', 'modest', 'modesty', 'moment', 'money', 'monumental', 'mood', 'morbidly', 'more', 'most', 'mourn', 'mourned', 'moustache', 'moved', 'much', 'muddling', 'multiplied', 'murmur', 'muscles', 'must', 'my', 'myself', 'mysterious', 'naive', 'near', 'nearly', 'negatived', 'nervous', 'nervousness', 'neutral', 'never', 'next', 'no', 'none', 'not', 'note', 'nothing', 'now', 'nymphs', 'oak', 'obituary', 'object', 'objects', 'occurred', 'oddly', 'of', 'off', 'often', 'oh', 'old', 'on', 'once', 'one', 'ones', 'only', 'onto', 'open', 'or', 'other', 'our', 'ourselves', 'out', 'outline', 'oval', 'over', 'own', 'packed', 'paid', 'paint', 'painted', 'painter', 'painting', 'pale', 'paled', 'palm-trees', 'panel', 'panelling', 'pardonable', 'pardoned', 'part', 'passages', 'passing', 'past', 'pastels', 'pathos', 'patient', 'people', 'perceptible', 'perfect', 'persistence', 'persuasively', 'phrase', 'picture', 'pictures', 'pines', 'pink', 'place', 'placed', 'plain', 'platitudes', 'pleased', 'pockets', 'point', 'poised', 'poor', 'portrait', 'posing', 'possessed', 'poverty', 'predicted', 'preliminary', 'presenting', 'prestidigitation', 'pretty', 'previous', 'price', 'pride', 'princely', 'prism', 'problem', 'proclaiming', 'prodigious', 'profusion', 'protest', 'prove', 'public', 'purblind', 'purely', 'pushed', 'put', 'qualities', 'quality', 'queerly', 'question', 'quickly', 'quietly', 'quite', 'quote', 'rain', 'raised', 'random', 'rather', 'real', 'really', 'reared', 'reason', 'reassurance', 'recovering', 'recreated', 'reflected', 'reflection', 'regrets', 'relatively', 'remained', 'remember', 'reminded', 'repeating', 'represented', 'reproduction', 'resented', 'resolve', 'resources', 'rest', 'rich', 'ridiculous', 'robbed', 'romantic', 'room', 'rose', 'rs', 'rule', 'run', 'said', 'same', 'satisfaction', 'savour', 'saw', 'say', 'saying', 'says', 'scorn', 'scornful', 'secret', 'see', 'seemed', 'seen', 'self-confident', 'send', 'sensation', 'sensitive', 'sent', 'serious', 'set', 'sex', 'shade', 'shaking', 'shall', 'she', \"she's\", 'shirked', 'short', 'should', 'shoulder', 'shoulders', 'show', 'showed', 'showy', 'shrug', 'shrugged', 'sight', 'sign', 'silent', 'silver', 'similar', 'simpleton', 'simplifications', 'simply', 'since', 'single', 'sitter', 'sitters', 'sketch', 'skill', 'slight', 'slightly', 'slowly', 'small', 'smile', 'smiling', 'sneer', 'so', 'solace', 'some', 'somebody', 'something', 'spacious', 'spaniel', 'speaking-tubes', 'speculations', 'spite', 'splash', 'square', 'stairs', 'stammer', 'stand', 'standing', 'started', 'stay', 'still', 'stocked', 'stood', 'stopped', 'stopping', 'straddling', 'straight', 'strain', 'straining', 'strange', 'straw', 'stream', 'stroke', 'strokes', 'strolled', 'strongest', 'strongly', 'struck', 'studio', 'stuff', 'subject', 'substantial', 'suburban', 'such', 'suddenly', 'suffered', 'sugar', 'suggested', 'sunburn', 'sunburnt', 'sunlit', 'superb', 'sure', 'surest', 'surface', 'surprise', 'surprised', 'surrounded', 'suspected', 'sweetly', 'sweetness', 'swelling', 'swept', 'swum', 'table', 'take', 'taken', 'talking', 'tea', 'tears', 'technicalities', 'tell', 'tells']\n",
            "1154\n"
          ]
        }
      ]
    },
    {
      "cell_type": "code",
      "source": [
        "vocab={token:integer for integer,token in enumerate(all_words)}"
      ],
      "metadata": {
        "id": "2HgoM3z0uHtg"
      },
      "execution_count": 37,
      "outputs": []
    },
    {
      "cell_type": "code",
      "source": [
        "print(vocab)"
      ],
      "metadata": {
        "colab": {
          "base_uri": "https://localhost:8080/"
        },
        "id": "mcixmug-xTZY",
        "outputId": "2753570b-950f-4460-9e22-4688b5096580"
      },
      "execution_count": 38,
      "outputs": [
        {
          "output_type": "stream",
          "name": "stdout",
          "text": [
            "{'!': 0, '\"': 1, \"'\": 2, \"'Are\": 3, \"'It's\": 4, \"'coming'\": 5, \"'done'\": 6, \"'subject\": 7, \"'technique'\": 8, \"'way\": 9, '(': 10, ')': 11, ',': 12, '--': 13, '.': 14, ':': 15, ';': 16, '?': 17, 'A': 18, 'Ah': 19, 'Among': 20, 'And': 21, 'Arrt': 22, 'As': 23, 'At': 24, 'Be': 25, 'Begin': 26, 'Burlington': 27, 'But': 28, 'By': 29, 'Carlo': 30, 'Chicago': 31, 'Claude': 32, 'Come': 33, 'Croft': 34, 'Destroyed': 35, 'Devonshire': 36, \"Don't\": 37, 'Dubarry': 38, 'Emperors': 39, 'Florence': 40, 'For': 41, 'Gallery': 42, 'Gideon': 43, 'Gisburn': 44, \"Gisburn's\": 45, 'Gisburns': 46, 'Grafton': 47, 'Greek': 48, 'Grindle': 49, \"Grindle's\": 50, 'Grindles': 51, 'HAD': 52, 'Had': 53, 'Hang': 54, 'Has': 55, 'He': 56, 'Her': 57, 'Hermia': 58, \"Hermia's\": 59, 'His': 60, 'How': 61, 'I': 62, \"I'd\": 63, \"I'll\": 64, \"I've\": 65, 'If': 66, 'In': 67, 'It': 68, \"It's\": 69, 'Jack': 70, \"Jack's\": 71, 'Jove': 72, 'Just': 73, 'Lord': 74, 'Made': 75, 'Miss': 76, \"Money's\": 77, 'Monte': 78, 'Moon-dancers': 79, 'Mr': 80, 'Mrs': 81, 'My': 82, 'Never': 83, 'No': 84, 'Now': 85, 'Nutley': 86, 'Of': 87, 'Oh': 88, 'On': 89, 'Once': 90, 'Only': 91, 'Or': 92, 'Perhaps': 93, 'Poor': 94, 'Professional': 95, 'Renaissance': 96, 'Rickham': 97, 'Riviera': 98, 'Rome': 99, 'Russian': 100, 'Sevres': 101, 'She': 102, \"She's\": 103, 'Stroud': 104, \"Stroud's\": 105, 'Strouds': 106, 'Suddenly': 107, 'That': 108, \"That's\": 109, 'The': 110, 'Then': 111, 'There': 112, 'They': 113, 'This': 114, 'Those': 115, 'Though': 116, 'Thwing': 117, \"Thwing's\": 118, 'Thwings': 119, 'To': 120, 'Usually': 121, 'Venetian': 122, 'Victor': 123, 'Was': 124, 'We': 125, 'Well': 126, 'What': 127, 'When': 128, 'Why': 129, 'Yes': 130, 'You': 131, '_': 132, 'a': 133, 'abdication': 134, 'able': 135, 'about': 136, 'above': 137, 'abruptly': 138, 'absolute': 139, 'absorbed': 140, 'absurdity': 141, 'academic': 142, 'accuse': 143, 'accustomed': 144, 'across': 145, 'activity': 146, 'add': 147, 'added': 148, 'admirers': 149, 'adopted': 150, 'adulation': 151, 'advance': 152, 'aesthetic': 153, 'affect': 154, 'afraid': 155, 'after': 156, 'afterward': 157, 'again': 158, 'ago': 159, 'ah': 160, 'air': 161, 'alive': 162, 'all': 163, 'almost': 164, 'alone': 165, 'along': 166, 'always': 167, 'am': 168, 'amazement': 169, 'amid': 170, 'among': 171, 'amplest': 172, 'amusing': 173, 'an': 174, 'and': 175, 'another': 176, 'answer': 177, 'answered': 178, 'any': 179, 'anything': 180, 'anywhere': 181, 'apparent': 182, 'apparently': 183, 'appearance': 184, 'appeared': 185, 'appointed': 186, 'are': 187, 'arm': 188, 'arm-chair': 189, 'arm-chairs': 190, 'arms': 191, 'art': 192, 'articles': 193, 'artist': 194, 'as': 195, 'aside': 196, 'asked': 197, 'at': 198, 'atmosphere': 199, 'atom': 200, 'attack': 201, 'attention': 202, 'attitude': 203, 'audacities': 204, 'away': 205, 'awful': 206, 'axioms': 207, 'azaleas': 208, 'back': 209, 'background': 210, 'balance': 211, 'balancing': 212, 'balustraded': 213, 'basking': 214, 'bath-rooms': 215, 'be': 216, 'beaming': 217, 'bean-stalk': 218, 'bear': 219, 'beard': 220, 'beauty': 221, 'became': 222, 'because': 223, 'becoming': 224, 'bed': 225, 'been': 226, 'before': 227, 'began': 228, 'begun': 229, 'behind': 230, 'being': 231, 'believed': 232, 'beneath': 233, 'bespoke': 234, 'better': 235, 'between': 236, 'big': 237, 'bits': 238, 'bitterness': 239, 'blocked': 240, 'born': 241, 'borne': 242, 'boudoir': 243, 'bravura': 244, 'break': 245, 'breaking': 246, 'breathing': 247, 'bric-a-brac': 248, 'briefly': 249, 'brings': 250, 'bronzes': 251, 'brought': 252, 'brown': 253, 'brush': 254, 'bull': 255, 'business': 256, 'but': 257, 'buying': 258, 'by': 259, 'called': 260, 'came': 261, 'can': 262, 'canvas': 263, 'canvases': 264, 'cards': 265, 'care': 266, 'career': 267, 'caught': 268, 'central': 269, 'chair': 270, 'chap': 271, 'characteristic': 272, 'charming': 273, 'cheap': 274, 'check': 275, 'cheeks': 276, 'chest': 277, 'chimney-piece': 278, 'chucked': 279, 'cigar': 280, 'cigarette': 281, 'cigars': 282, 'circulation': 283, 'circumstance': 284, \"circus-clown's\": 285, 'claimed': 286, 'clasping': 287, 'clear': 288, 'cleverer': 289, 'close': 290, 'clue': 291, 'coat': 292, 'collapsed': 293, 'colour': 294, 'come': 295, 'comfortable': 296, 'coming': 297, 'companion': 298, 'compared': 299, 'complex': 300, 'confident': 301, 'congesting': 302, 'conjugal': 303, 'constraint': 304, 'consummate': 305, 'contended': 306, 'continued': 307, 'corner': 308, 'corrected': 309, 'could': 310, \"couldn't\": 311, 'count': 312, 'countenance': 313, 'couple': 314, 'course': 315, 'covered': 316, 'craft': 317, 'cried': 318, 'crossed': 319, 'crowned': 320, 'crumbled': 321, 'cry': 322, 'cured': 323, 'curiosity': 324, 'curious': 325, 'current': 326, 'curtains': 327, 'dabble': 328, 'damask': 329, 'dark': 330, 'dashed': 331, 'day': 332, 'days': 333, 'dead': 334, 'deadening': 335, 'dear': 336, 'deep': 337, \"deerhound's\": 338, 'degree': 339, 'delicate': 340, 'demand': 341, 'denied': 342, 'deploring': 343, 'deprecating': 344, 'deprecatingly': 345, 'desire': 346, 'destroyed': 347, 'destruction': 348, 'desultory': 349, 'detail': 350, 'diagnosis': 351, 'did': 352, \"didn't\": 353, 'died': 354, 'dim': 355, 'dimmest': 356, 'dingy': 357, 'dining-room': 358, 'disarming': 359, 'discovery': 360, 'discrimination': 361, 'discussion': 362, 'disdain': 363, 'disdained': 364, 'disease': 365, 'disguised': 366, 'display': 367, 'dissatisfied': 368, 'distinguished': 369, 'distract': 370, 'divert': 371, 'do': 372, \"doesn't\": 373, 'doing': 374, 'domestic': 375, \"don't\": 376, 'done': 377, 'donkey': 378, 'down': 379, 'dozen': 380, 'dragged': 381, 'drawing-room': 382, 'drawing-rooms': 383, 'drawn': 384, 'dress-closets': 385, 'drew': 386, 'dropped': 387, 'each': 388, 'earth': 389, 'ease': 390, 'easel': 391, 'easy': 392, 'echoed': 393, 'economy': 394, 'effect': 395, 'effects': 396, 'efforts': 397, 'egregious': 398, 'eighteenth-century': 399, 'elbow': 400, 'elegant': 401, 'else': 402, 'embarrassed': 403, 'enabled': 404, 'end': 405, 'endless': 406, 'enjoy': 407, 'enlightenment': 408, 'enough': 409, 'ensuing': 410, 'equally': 411, 'equanimity': 412, 'escape': 413, 'established': 414, 'etching': 415, 'even': 416, 'event': 417, 'ever': 418, 'everlasting': 419, 'every': 420, 'exasperated': 421, 'except': 422, 'excuse': 423, 'excusing': 424, 'existed': 425, 'expected': 426, 'exquisite': 427, 'exquisitely': 428, 'extenuation': 429, 'exterminating': 430, 'extracting': 431, 'eye': 432, 'eyebrows': 433, 'eyes': 434, 'face': 435, 'faces': 436, 'fact': 437, 'faded': 438, 'failed': 439, 'failure': 440, 'fair': 441, 'faith': 442, 'false': 443, 'familiar': 444, 'famille-verte': 445, 'fancy': 446, 'fashionable': 447, 'fate': 448, 'feather': 449, 'feet': 450, 'fell': 451, 'fellow': 452, 'felt': 453, 'few': 454, 'fewer': 455, 'finality': 456, 'find': 457, 'fingers': 458, 'first': 459, 'fit': 460, 'fitting': 461, 'five': 462, 'flash': 463, 'flashed': 464, 'florid': 465, 'flowers': 466, 'fluently': 467, 'flung': 468, 'follow': 469, 'followed': 470, 'fond': 471, 'footstep': 472, 'for': 473, 'forced': 474, 'forcing': 475, 'forehead': 476, 'foreign': 477, 'foreseen': 478, 'forgive': 479, 'forgotten': 480, 'form': 481, 'formed': 482, 'forming': 483, 'forward': 484, 'fostered': 485, 'found': 486, 'foundations': 487, 'fragment': 488, 'fragments': 489, 'frame': 490, 'frames': 491, 'frequently': 492, \"friend's\": 493, 'from': 494, 'full': 495, 'fullest': 496, 'furiously': 497, 'furrowed': 498, 'garlanded': 499, 'garlands': 500, 'gave': 501, 'genial': 502, 'genius': 503, 'gesture': 504, 'get': 505, 'getting': 506, 'give': 507, 'given': 508, 'glad': 509, 'glanced': 510, 'glimpse': 511, 'gloried': 512, 'glory': 513, 'go': 514, 'going': 515, 'gone': 516, 'good': 517, 'good-breeding': 518, 'good-humoured': 519, 'got': 520, 'grace': 521, 'gradually': 522, 'gray': 523, 'grayish': 524, 'great': 525, 'greatest': 526, 'greatness': 527, 'grew': 528, 'groping': 529, 'growing': 530, 'had': 531, \"hadn't\": 532, 'hair': 533, 'half': 534, 'half-light': 535, 'half-mechanically': 536, 'hall': 537, 'hand': 538, 'hands': 539, 'handsome': 540, 'hanging': 541, 'happen': 542, 'happened': 543, 'hard': 544, 'hardly': 545, 'has': 546, 'have': 547, \"haven't\": 548, 'having': 549, 'he': 550, \"he'd\": 551, \"he's\": 552, 'head': 553, 'hear': 554, 'heard': 555, 'heart': 556, 'height': 557, 'her': 558, 'here': 559, 'hermit': 560, 'herself': 561, 'hesitations': 562, 'hide': 563, 'high': 564, 'him': 565, 'himself': 566, 'hint': 567, 'his': 568, 'history': 569, 'holding': 570, 'home': 571, 'honour': 572, 'hooded': 573, 'hostess': 574, 'hot-house': 575, 'hour': 576, 'hours': 577, 'house': 578, 'how': 579, \"how'\": 580, 'hung': 581, 'husband': 582, \"husband's\": 583, 'idea': 584, 'idle': 585, 'idling': 586, 'if': 587, 'immediately': 588, 'in': 589, 'incense': 590, 'indifferent': 591, 'inevitable': 592, 'inevitably': 593, 'inflexible': 594, 'insensible': 595, 'insignificant': 596, 'instinctively': 597, 'instructive': 598, 'interesting': 599, 'into': 600, 'ironic': 601, 'irony': 602, 'irrelevance': 603, 'irrevocable': 604, 'is': 605, 'it': 606, \"it's\": 607, 'its': 608, 'itself': 609, 'jardiniere': 610, 'jealousy': 611, 'just': 612, 'keep': 613, 'kept': 614, 'kind': 615, 'knees': 616, 'knew': 617, 'know': 618, 'known': 619, 'laid': 620, 'lair': 621, 'landing': 622, 'language': 623, 'last': 624, 'late': 625, 'later': 626, 'latter': 627, \"latter's\": 628, 'laugh': 629, 'laughed': 630, 'lay': 631, 'leading': 632, 'lean': 633, 'learned': 634, 'least': 635, 'leathery': 636, 'leave': 637, 'led': 638, 'left': 639, 'leisure': 640, 'lends': 641, 'lent': 642, 'let': 643, 'lies': 644, 'life': 645, 'life-likeness': 646, 'lift': 647, 'lifted': 648, 'light': 649, 'lightly': 650, 'like': 651, 'liked': 652, 'line': 653, 'lines': 654, 'lingered': 655, 'lips': 656, 'lit': 657, 'little': 658, 'live': 659, 'loathing': 660, 'long': 661, 'longed': 662, 'longer': 663, 'look': 664, 'looked': 665, 'looking': 666, 'lose': 667, 'loss': 668, 'lounging': 669, 'lovely': 670, 'lucky': 671, 'lump': 672, 'luncheon-table': 673, 'luxury': 674, 'lying': 675, 'made': 676, 'make': 677, 'man': 678, 'manage': 679, 'managed': 680, 'mantel-piece': 681, 'marble': 682, 'married': 683, 'may': 684, 'me': 685, 'meant': 686, 'mediocrity': 687, 'medium': 688, 'mentioned': 689, 'mere': 690, 'merely': 691, 'met': 692, 'might': 693, 'mighty': 694, \"millionaire's\": 695, 'mine': 696, 'minute': 697, 'minutes': 698, 'mirrors': 699, 'modest': 700, 'modesty': 701, 'moment': 702, 'money': 703, 'monumental': 704, 'mood': 705, 'morbidly': 706, 'more': 707, 'most': 708, 'mourn': 709, 'mourned': 710, 'moustache': 711, 'moved': 712, 'much': 713, 'muddling': 714, 'multiplied': 715, 'murmur': 716, 'muscles': 717, 'must': 718, 'my': 719, 'myself': 720, 'mysterious': 721, 'naive': 722, 'near': 723, 'nearly': 724, 'negatived': 725, 'nervous': 726, 'nervousness': 727, 'neutral': 728, 'never': 729, 'next': 730, 'no': 731, 'none': 732, 'not': 733, 'note': 734, 'nothing': 735, 'now': 736, 'nymphs': 737, 'oak': 738, 'obituary': 739, 'object': 740, 'objects': 741, 'occurred': 742, 'oddly': 743, 'of': 744, 'off': 745, 'often': 746, 'oh': 747, 'old': 748, 'on': 749, 'once': 750, 'one': 751, 'ones': 752, 'only': 753, 'onto': 754, 'open': 755, 'or': 756, 'other': 757, 'our': 758, 'ourselves': 759, 'out': 760, 'outline': 761, 'oval': 762, 'over': 763, 'own': 764, 'packed': 765, 'paid': 766, 'paint': 767, 'painted': 768, 'painter': 769, 'painting': 770, 'pale': 771, 'paled': 772, 'palm-trees': 773, 'panel': 774, 'panelling': 775, 'pardonable': 776, 'pardoned': 777, 'part': 778, 'passages': 779, 'passing': 780, 'past': 781, 'pastels': 782, 'pathos': 783, 'patient': 784, 'people': 785, 'perceptible': 786, 'perfect': 787, 'persistence': 788, 'persuasively': 789, 'phrase': 790, 'picture': 791, 'pictures': 792, 'pines': 793, 'pink': 794, 'place': 795, 'placed': 796, 'plain': 797, 'platitudes': 798, 'pleased': 799, 'pockets': 800, 'point': 801, 'poised': 802, 'poor': 803, 'portrait': 804, 'posing': 805, 'possessed': 806, 'poverty': 807, 'predicted': 808, 'preliminary': 809, 'presenting': 810, 'prestidigitation': 811, 'pretty': 812, 'previous': 813, 'price': 814, 'pride': 815, 'princely': 816, 'prism': 817, 'problem': 818, 'proclaiming': 819, 'prodigious': 820, 'profusion': 821, 'protest': 822, 'prove': 823, 'public': 824, 'purblind': 825, 'purely': 826, 'pushed': 827, 'put': 828, 'qualities': 829, 'quality': 830, 'queerly': 831, 'question': 832, 'quickly': 833, 'quietly': 834, 'quite': 835, 'quote': 836, 'rain': 837, 'raised': 838, 'random': 839, 'rather': 840, 'real': 841, 'really': 842, 'reared': 843, 'reason': 844, 'reassurance': 845, 'recovering': 846, 'recreated': 847, 'reflected': 848, 'reflection': 849, 'regrets': 850, 'relatively': 851, 'remained': 852, 'remember': 853, 'reminded': 854, 'repeating': 855, 'represented': 856, 'reproduction': 857, 'resented': 858, 'resolve': 859, 'resources': 860, 'rest': 861, 'rich': 862, 'ridiculous': 863, 'robbed': 864, 'romantic': 865, 'room': 866, 'rose': 867, 'rs': 868, 'rule': 869, 'run': 870, 'said': 871, 'same': 872, 'satisfaction': 873, 'savour': 874, 'saw': 875, 'say': 876, 'saying': 877, 'says': 878, 'scorn': 879, 'scornful': 880, 'secret': 881, 'see': 882, 'seemed': 883, 'seen': 884, 'self-confident': 885, 'send': 886, 'sensation': 887, 'sensitive': 888, 'sent': 889, 'serious': 890, 'set': 891, 'sex': 892, 'shade': 893, 'shaking': 894, 'shall': 895, 'she': 896, \"she's\": 897, 'shirked': 898, 'short': 899, 'should': 900, 'shoulder': 901, 'shoulders': 902, 'show': 903, 'showed': 904, 'showy': 905, 'shrug': 906, 'shrugged': 907, 'sight': 908, 'sign': 909, 'silent': 910, 'silver': 911, 'similar': 912, 'simpleton': 913, 'simplifications': 914, 'simply': 915, 'since': 916, 'single': 917, 'sitter': 918, 'sitters': 919, 'sketch': 920, 'skill': 921, 'slight': 922, 'slightly': 923, 'slowly': 924, 'small': 925, 'smile': 926, 'smiling': 927, 'sneer': 928, 'so': 929, 'solace': 930, 'some': 931, 'somebody': 932, 'something': 933, 'spacious': 934, 'spaniel': 935, 'speaking-tubes': 936, 'speculations': 937, 'spite': 938, 'splash': 939, 'square': 940, 'stairs': 941, 'stammer': 942, 'stand': 943, 'standing': 944, 'started': 945, 'stay': 946, 'still': 947, 'stocked': 948, 'stood': 949, 'stopped': 950, 'stopping': 951, 'straddling': 952, 'straight': 953, 'strain': 954, 'straining': 955, 'strange': 956, 'straw': 957, 'stream': 958, 'stroke': 959, 'strokes': 960, 'strolled': 961, 'strongest': 962, 'strongly': 963, 'struck': 964, 'studio': 965, 'stuff': 966, 'subject': 967, 'substantial': 968, 'suburban': 969, 'such': 970, 'suddenly': 971, 'suffered': 972, 'sugar': 973, 'suggested': 974, 'sunburn': 975, 'sunburnt': 976, 'sunlit': 977, 'superb': 978, 'sure': 979, 'surest': 980, 'surface': 981, 'surprise': 982, 'surprised': 983, 'surrounded': 984, 'suspected': 985, 'sweetly': 986, 'sweetness': 987, 'swelling': 988, 'swept': 989, 'swum': 990, 'table': 991, 'take': 992, 'taken': 993, 'talking': 994, 'tea': 995, 'tears': 996, 'technicalities': 997, 'tell': 998, 'tells': 999, 'tempting': 1000, 'terra-cotta': 1001, 'terrace': 1002, 'terraces': 1003, 'terribly': 1004, 'than': 1005, 'that': 1006, 'the': 1007, 'their': 1008, 'them': 1009, 'then': 1010, 'there': 1011, \"there's\": 1012, 'therefore': 1013, 'they': 1014, \"they're\": 1015, 'thin': 1016, 'thing': 1017, 'things': 1018, 'think': 1019, 'this': 1020, 'thither': 1021, 'those': 1022, 'though': 1023, 'thought': 1024, 'three': 1025, 'threshold': 1026, 'threw': 1027, 'through': 1028, 'throwing': 1029, 'tie': 1030, 'till': 1031, 'time': 1032, 'timorously': 1033, 'tinge': 1034, 'tips': 1035, 'tired': 1036, 'to': 1037, 'told': 1038, 'tone': 1039, 'tones': 1040, 'too': 1041, 'took': 1042, 'tottering': 1043, 'touched': 1044, 'toward': 1045, 'trace': 1046, 'trade': 1047, 'transmute': 1048, 'traps': 1049, 'travelled': 1050, 'tribute': 1051, 'tributes': 1052, 'tricks': 1053, 'tried': 1054, 'trouser-presses': 1055, 'true': 1056, 'truth': 1057, 'turned': 1058, 'twenty': 1059, 'twenty-four': 1060, 'twice': 1061, 'twirling': 1062, 'unaccountable': 1063, 'uncertain': 1064, 'under': 1065, 'underlay': 1066, 'underneath': 1067, 'understand': 1068, 'unexpected': 1069, 'untouched': 1070, 'unusual': 1071, 'up': 1072, 'up-stream': 1073, 'upon': 1074, 'upset': 1075, 'upstairs': 1076, 'us': 1077, 'used': 1078, 'usual': 1079, 'value': 1080, 'varnishing': 1081, 'vases': 1082, 'veins': 1083, 'velveteen': 1084, 'very': 1085, 'villa': 1086, 'vindicated': 1087, 'virtuosity': 1088, 'vista': 1089, 'vocation': 1090, 'voice': 1091, 'wall': 1092, 'wander': 1093, 'want': 1094, 'wanted': 1095, 'wants': 1096, 'was': 1097, \"wasn't\": 1098, 'watched': 1099, 'watching': 1100, 'water-colour': 1101, 'waves': 1102, 'way': 1103, 'weekly': 1104, 'weeks': 1105, \"weeks'\": 1106, 'welcome': 1107, 'went': 1108, 'were': 1109, 'what': 1110, 'when': 1111, 'whenever': 1112, 'where': 1113, 'which': 1114, 'while': 1115, 'white': 1116, 'white-panelled': 1117, 'who': 1118, 'whole': 1119, 'whom': 1120, 'why': 1121, 'wide': 1122, 'widow': 1123, 'wife': 1124, \"wife's\": 1125, 'wild': 1126, 'wincing': 1127, 'window-curtains': 1128, 'wish': 1129, 'with': 1130, 'without': 1131, \"wits'\": 1132, 'woman': 1133, 'women': 1134, \"won't\": 1135, 'wonder': 1136, 'wondered': 1137, 'word': 1138, 'work': 1139, 'working': 1140, 'worth': 1141, 'would': 1142, \"wouldn't\": 1143, 'year': 1144, 'years': 1145, 'yellow': 1146, 'yet': 1147, 'you': 1148, \"you'd\": 1149, \"you're\": 1150, 'younger': 1151, 'your': 1152, 'yourself': 1153}\n"
          ]
        }
      ]
    },
    {
      "cell_type": "code",
      "source": [
        "for i,item in enumerate(vocab.items()):\n",
        "  print(item)\n",
        "  if(i>=50):\n",
        "    break"
      ],
      "metadata": {
        "colab": {
          "base_uri": "https://localhost:8080/"
        },
        "id": "8qyQn0sYzUEX",
        "outputId": "4a551450-5372-464e-86cb-4a7b6063d410"
      },
      "execution_count": 39,
      "outputs": [
        {
          "output_type": "stream",
          "name": "stdout",
          "text": [
            "('!', 0)\n",
            "('\"', 1)\n",
            "(\"'\", 2)\n",
            "(\"'Are\", 3)\n",
            "(\"'It's\", 4)\n",
            "(\"'coming'\", 5)\n",
            "(\"'done'\", 6)\n",
            "(\"'subject\", 7)\n",
            "(\"'technique'\", 8)\n",
            "(\"'way\", 9)\n",
            "('(', 10)\n",
            "(')', 11)\n",
            "(',', 12)\n",
            "('--', 13)\n",
            "('.', 14)\n",
            "(':', 15)\n",
            "(';', 16)\n",
            "('?', 17)\n",
            "('A', 18)\n",
            "('Ah', 19)\n",
            "('Among', 20)\n",
            "('And', 21)\n",
            "('Arrt', 22)\n",
            "('As', 23)\n",
            "('At', 24)\n",
            "('Be', 25)\n",
            "('Begin', 26)\n",
            "('Burlington', 27)\n",
            "('But', 28)\n",
            "('By', 29)\n",
            "('Carlo', 30)\n",
            "('Chicago', 31)\n",
            "('Claude', 32)\n",
            "('Come', 33)\n",
            "('Croft', 34)\n",
            "('Destroyed', 35)\n",
            "('Devonshire', 36)\n",
            "(\"Don't\", 37)\n",
            "('Dubarry', 38)\n",
            "('Emperors', 39)\n",
            "('Florence', 40)\n",
            "('For', 41)\n",
            "('Gallery', 42)\n",
            "('Gideon', 43)\n",
            "('Gisburn', 44)\n",
            "(\"Gisburn's\", 45)\n",
            "('Gisburns', 46)\n",
            "('Grafton', 47)\n",
            "('Greek', 48)\n",
            "('Grindle', 49)\n",
            "(\"Grindle's\", 50)\n"
          ]
        }
      ]
    },
    {
      "cell_type": "markdown",
      "source": [
        "Creating Tokenizer Class"
      ],
      "metadata": {
        "id": "0lwRZPd502Ys"
      }
    },
    {
      "cell_type": "code",
      "source": [
        "class Tokenizer:\n",
        "  def __init__(self,vocab):\n",
        "    self.token_to_id=vocab\n",
        "    self.id_to_token={v:k for k,v in self.token_to_id.items()}\n",
        "\n",
        "  def encode(self,text):\n",
        "    tokens=re.split(r'([,.:;?_!\"()]|--|\\s)',text)\n",
        "    tokens=[item.strip() for item in tokens if item.strip()]\n",
        "    ids=[self.token_to_id[v] for v in tokens]\n",
        "    return ids\n",
        "\n",
        "  def decode(self,ids):\n",
        "    text=\" \".join([self.id_to_token[id] for id in ids])\n",
        "    text=re.sub(r'\\s+([,.?!\"()\\'])',r'\\1',text)\n",
        "    return text\n"
      ],
      "metadata": {
        "id": "t-fV13CU014c"
      },
      "execution_count": 40,
      "outputs": []
    },
    {
      "cell_type": "code",
      "source": [
        "sent=\"The women is a cheap!\"\n",
        "tokenize= Tokenizer(vocab)"
      ],
      "metadata": {
        "id": "789_SeUIE29N"
      },
      "execution_count": 43,
      "outputs": []
    },
    {
      "cell_type": "code",
      "source": [
        "tokenize.encode(sent)"
      ],
      "metadata": {
        "colab": {
          "base_uri": "https://localhost:8080/"
        },
        "id": "muOUDi9QP_mp",
        "outputId": "17b2b570-4266-479b-8e71-1872fc249218"
      },
      "execution_count": 44,
      "outputs": [
        {
          "output_type": "execute_result",
          "data": {
            "text/plain": [
              "[110, 1134, 605, 133, 274, 0]"
            ]
          },
          "metadata": {},
          "execution_count": 44
        }
      ]
    }
  ]
}